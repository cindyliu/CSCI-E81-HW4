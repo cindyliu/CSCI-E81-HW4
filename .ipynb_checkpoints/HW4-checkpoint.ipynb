{
 "cells": [
  {
   "cell_type": "code",
   "execution_count": 7,
   "metadata": {
    "collapsed": true
   },
   "outputs": [],
   "source": [
    "from __future__ import print_function\n",
    "import matplotlib.pyplot as plt\n",
    "import numpy as np\n",
    "import pandas as pd\n",
    "import os\n",
    "import sys\n",
    "import time\n",
    "from functools import reduce\n",
    "from IPython.display import display, Image\n",
    "from sklearn.linear_model import LogisticRegression\n",
    "from sklearn.preprocessing import LabelBinarizer\n",
    "from sklearn.preprocessing import StandardScaler\n",
    "from sklearn.metrics import roc_curve, auc\n",
    "from six.moves import cPickle as pickle\n",
    "from six.moves import range\n",
    "\n",
    "%matplotlib inline\n",
    "\n",
    "import tensorflow as tf"
   ]
  },
  {
   "cell_type": "code",
   "execution_count": 8,
   "metadata": {
    "collapsed": false
   },
   "outputs": [
    {
     "name": "stdout",
     "output_type": "stream",
     "text": [
      "Time to load data: 0.174s\n",
      "Train data 0: (10000, 3072) 10000\n",
      "Train data 1: (10000, 3072) 10000\n",
      "Train data 2: (10000, 3072) 10000\n",
      "Train data 3: (10000, 3072) 10000\n",
      "Train data 4: (10000, 3072) 10000\n",
      "Test data: (10000, 3072) 10000\n",
      "Merged train data: (50000, 3072) 50000\n"
     ]
    }
   ],
   "source": [
    "files = [\n",
    "    'data_batch_1',\n",
    "    'data_batch_2',\n",
    "    'data_batch_3',\n",
    "    'data_batch_4',\n",
    "    'data_batch_5',\n",
    "    'test_batch'\n",
    "]\n",
    "\n",
    "data = []\n",
    "labels = []\n",
    "start = time.time()\n",
    "for file in files:\n",
    "    with open(file, 'rb') as f:\n",
    "        d = pickle.load(f, encoding='bytes')\n",
    "        if file == 'test_batch':\n",
    "            test_data = d[b'data']\n",
    "            test_labels = d[b'labels']\n",
    "        else:\n",
    "            data.append(d[b'data'])\n",
    "            labels.append(d[b'labels'])\n",
    "end = time.time()\n",
    "print('Time to load data: {:.3f}s'.format(end - start))\n",
    "for i in range(len(data)):\n",
    "    print('Train data {}:'.format(i), data[i].shape, len(labels[i]))\n",
    "print('Test data:', test_data.shape, len(test_labels))\n",
    "\n",
    "merged_data = reduce(lambda a,b: np.vstack((a,b)), data)\n",
    "merged_labels = reduce(lambda a,b: a+b, labels)\n",
    "print('Merged train data:', merged_data.shape, len(merged_labels))"
   ]
  },
  {
   "cell_type": "code",
   "execution_count": 14,
   "metadata": {
    "collapsed": false
   },
   "outputs": [
    {
     "name": "stderr",
     "output_type": "stream",
     "text": [
      "/Users/cindy.liu/Desktop/cindy/e81/e81-venv/lib/python3.5/site-packages/sklearn/utils/validation.py:429: DataConversionWarning: Data with input dtype uint8 was converted to float64 by StandardScaler.\n",
      "  warnings.warn(msg, _DataConversionWarning)\n"
     ]
    },
    {
     "name": "stdout",
     "output_type": "stream",
     "text": [
      "Training set (150000, 1024) (50000, 10)\n",
      "Test set (30000, 1024) (10000, 10)\n"
     ]
    }
   ],
   "source": [
    "img_size = 32\n",
    "num_labels = 10\n",
    "# num_channels = 3\n",
    "\n",
    "merged_labels_np = np.array(merged_labels)\n",
    "test_labels_np = np.array(test_labels)\n",
    "\n",
    "scaler = StandardScaler().fit(merged_data)\n",
    "merged_scaled = scaler.transform(merged_data)\n",
    "test_data_scaled = scaler.transform(test_data)\n",
    "\n",
    "\n",
    "def reformat(dataset, labels, img_size, num_channels=1):\n",
    "#     dataset = dataset.reshape((-1, img_size, img_size, num_channels)).astype(np.float32)\n",
    "    dataset = dataset.reshape((-1, img_size * img_size)).astype(np.float32)\n",
    "    labels = (np.arange(num_labels) == labels[:,None]).astype(np.float32)\n",
    "    return dataset, labels\n",
    "\n",
    "\n",
    "def accuracy(predictions, labels):\n",
    "    return (100.0 * np.sum(np.argmax(predictions, 1) == np.argmax(labels, 1))\n",
    "            / predictions.shape[0])\n",
    "\n",
    "\n",
    "train_dataset, train_labels = reformat(merged_scaled, merged_labels_np, img_size)\n",
    "test_dataset, test_labels_np = reformat(test_data_scaled, test_labels_np, img_size)\n",
    "print('Training set', train_dataset.shape, train_labels.shape)\n",
    "print('Test set', test_dataset.shape, test_labels_np.shape)"
   ]
  },
  {
   "cell_type": "code",
   "execution_count": 15,
   "metadata": {
    "collapsed": false
   },
   "outputs": [],
   "source": [
    "batch_size = 256\n",
    "\n",
    "graph = tf.Graph()\n",
    "with graph.as_default():\n",
    "\n",
    "    # Input data, with a placeholder to feed the training data at run time.\n",
    "    tf_train_dataset = tf.placeholder(tf.float32, shape=(batch_size, img_size*img_size))\n",
    "    tf_train_labels = tf.placeholder(tf.float32, shape=(batch_size, num_labels))\n",
    "    tf_test_dataset = tf.constant(test_dataset)\n",
    "\n",
    "    # Variables.\n",
    "    weights = tf.Variable(tf.truncated_normal([img_size*img_size, num_labels]))\n",
    "    biases = tf.Variable(tf.zeros([num_labels]))\n",
    "\n",
    "    # Training computation.\n",
    "    logits = tf.matmul(tf_train_dataset, weights) + biases\n",
    "    loss = tf.reduce_mean(tf.nn.softmax_cross_entropy_with_logits(logits, tf_train_labels))\n",
    "\n",
    "    # Optimizer.\n",
    "    optimizer = tf.train.GradientDescentOptimizer(0.5).minimize(loss)\n",
    "\n",
    "    # Predictions for the training, validation, and test data.\n",
    "    train_prediction = tf.nn.softmax(logits)\n",
    "    test_prediction = tf.nn.softmax(tf.matmul(tf_test_dataset, weights) + biases)"
   ]
  },
  {
   "cell_type": "code",
   "execution_count": 18,
   "metadata": {
    "collapsed": false
   },
   "outputs": [
    {
     "name": "stdout",
     "output_type": "stream",
     "text": [
      "Initialized\n",
      "Minibatch loss at epoch 0: 44.604919\n",
      "Minibatch accuracy: 10.5%\n",
      "Minibatch loss at epoch 500: 22.397215\n",
      "Minibatch accuracy: 9.4%\n",
      "Minibatch loss at epoch 1000: 35.973042\n",
      "Minibatch accuracy: 15.2%\n",
      "Minibatch loss at epoch 1500: 13.556791\n",
      "Minibatch accuracy: 10.9%\n",
      "Minibatch loss at epoch 2000: 15.277567\n",
      "Minibatch accuracy: 12.5%\n",
      "Minibatch loss at epoch 2500: 20.426836\n",
      "Minibatch accuracy: 11.7%\n",
      "Minibatch loss at epoch 3000: 30.665993\n",
      "Minibatch accuracy: 11.3%\n",
      "Test accuracy: 0.0%\n"
     ]
    },
    {
     "name": "stderr",
     "output_type": "stream",
     "text": [
      "/Users/cindy.liu/Desktop/cindy/e81/e81-venv/lib/python3.5/site-packages/ipykernel/__main__.py:22: DeprecationWarning: elementwise == comparison failed; this will raise an error in the future.\n"
     ]
    }
   ],
   "source": [
    "num_epochs = 3001\n",
    "l_array = []\n",
    "\n",
    "start = time.time()\n",
    "with tf.Session(graph=graph) as session:\n",
    "    tf.initialize_all_variables().run()\n",
    "    merged = tf.merge_all_summaries()  \n",
    "    writer = tf.train.SummaryWriter(\"/tmp/tensorflowlogs\", session.graph)\n",
    "    print(\"Initialized\")\n",
    "    for epoch in range(num_epochs):\n",
    "        \n",
    "        offset = (epoch * batch_size) % (train_labels.shape[0] - batch_size)\n",
    "\n",
    "        batch_data = train_dataset[offset:(offset + batch_size), :]\n",
    "        batch_labels = train_labels[offset:(offset + batch_size), :]\n",
    "\n",
    "        feed_dict = {tf_train_dataset : batch_data, tf_train_labels : batch_labels}\n",
    "        _, l, predictions = session.run([optimizer, loss, train_prediction], feed_dict=feed_dict)\n",
    "        l_array.append(l)\n",
    "        if (epoch % 500 == 0):\n",
    "            print(\"Minibatch loss at epoch %d: %f\" % (epoch, l))\n",
    "            print(\"Minibatch accuracy: %.1f%%\" % accuracy(predictions, batch_labels))\n",
    "    print(\"Test accuracy: %.1f%%\" % accuracy(test_prediction.eval(), test_labels_np))\n",
    "    test_preds = pd.DataFrame(test_prediction.eval().ravel(), columns=['LR_SGD'])\n",
    "end = time.time()\n",
    "print('Time to run: {:.3f}s'.format(end - start))"
   ]
  },
  {
   "cell_type": "code",
   "execution_count": 19,
   "metadata": {
    "collapsed": false
   },
   "outputs": [
    {
     "data": {
      "image/png": "[encoded data removed]",
      "text/plain": [
       "<matplotlib.figure.Figure at 0x13422c128>"
      ]
     },
     "metadata": {},
     "output_type": "display_data"
    }
   ],
   "source": [
    "plt.plot(range(num_epochs), l_array, '.')\n",
    "plt.xlabel(\"epoch\")\n",
    "plt.ylabel(\"cost\")\n",
    "plt.title(\"The training phase of Logistic Regression with SGD\")\n",
    "plt.show()"
   ]
  },
  {
   "cell_type": "code",
   "execution_count": 20,
   "metadata": {
    "collapsed": true
   },
   "outputs": [],
   "source": [
    "def weight_variable(shape):\n",
    "    #initial = tf.truncated_normal(shape, stddev=0.01)\n",
    "    initial = tf.truncated_normal(shape, stddev=tf.sqrt(2.0/shape[0]))\n",
    "    return tf.Variable(initial)\n",
    "\n",
    "def bias_variable(shape):\n",
    "    #initial = tf.constant(0.1, shape=shape)\n",
    "    initial = tf.zeros(shape)\n",
    "    return tf.Variable(initial)\n",
    "\n",
    "split_by_half = lambda x,k : int(x/2**k)"
   ]
  },
  {
   "cell_type": "code",
   "execution_count": 21,
   "metadata": {
    "collapsed": false
   },
   "outputs": [],
   "source": [
    "batch_size = 256\n",
    "hidden_nodes = 1024\n",
    "lamb_reg = 0.001\n",
    "\n",
    "graph = tf.Graph()\n",
    "with graph.as_default():\n",
    "\n",
    "    # Input data.\n",
    "    tf_train_dataset = tf.placeholder(tf.float32, shape=(batch_size, img_size*img_size))\n",
    "    tf_train_labels = tf.placeholder(tf.float32, shape=(batch_size, num_labels))\n",
    "    tf_test_dataset = tf.constant(test_dataset)\n",
    "\n",
    "    # Variables.\n",
    "    layer1_weights = weight_variable([img_size*img_size, hidden_nodes])\n",
    "    layer1_biases = bias_variable([hidden_nodes])\n",
    "    layer2_weights = weight_variable([hidden_nodes, split_by_half(hidden_nodes,1)])\n",
    "    layer2_biases = bias_variable([split_by_half(hidden_nodes,1)])   \n",
    "    layer3_weights = weight_variable([split_by_half(hidden_nodes,1), split_by_half(hidden_nodes,2)])\n",
    "    layer3_biases = bias_variable([split_by_half(hidden_nodes,2)])    \n",
    "    layer4_weights = weight_variable([split_by_half(hidden_nodes,2), num_labels])\n",
    "    layer4_biases = bias_variable([num_labels])\n",
    "    \n",
    "    keep_prob = tf.placeholder(\"float\")\n",
    "    \n",
    "    # Model with dropout\n",
    "    def model(data, proba=keep_prob):\n",
    "        layer1 = tf.matmul(data, layer1_weights) + layer1_biases\n",
    "        hidden1 = tf.nn.dropout(tf.nn.relu(layer1), proba)  # dropout on hidden layer\n",
    "        layer2 = tf.matmul(hidden1, layer2_weights) + layer2_biases  # a new hidden layer\n",
    "        hidden2 = tf.nn.dropout(tf.nn.relu(layer2), proba)\n",
    "        layer3 = tf.matmul(hidden2, layer3_weights) + layer3_biases\n",
    "        hidden3 = tf.nn.dropout(tf.nn.relu(layer3), proba)\n",
    "        return tf.matmul(hidden3, layer4_weights) + layer4_biases\n",
    "    \n",
    "    # Training computation.\n",
    "    logits = model(tf_train_dataset, keep_prob)\n",
    "    loss = tf.reduce_mean(tf.nn.softmax_cross_entropy_with_logits(logits, tf_train_labels))\n",
    "    regularizers = (tf.nn.l2_loss(layer1_weights) + tf.nn.l2_loss(layer1_biases) + \\\n",
    "                    tf.nn.l2_loss(layer2_weights) + tf.nn.l2_loss(layer2_biases) + \\\n",
    "                    tf.nn.l2_loss(layer3_weights) + tf.nn.l2_loss(layer3_biases) + \\\n",
    "                    tf.nn.l2_loss(layer4_weights) + tf.nn.l2_loss(layer4_biases) )\n",
    "\n",
    "    # Add the regularization term to the loss.\n",
    "    #loss += lamb_reg * regularizers\n",
    "    loss = tf.reduce_mean(loss + lamb_reg * regularizers)\n",
    "\n",
    "    # Optimizer.\n",
    "    # learning rate decay\n",
    "    global_step = tf.Variable(0)  # count number of steps taken.\n",
    "    start_learning_rate = 0.5\n",
    "    learning_rate = tf.train.exponential_decay(start_learning_rate, global_step, 100000, 0.96, staircase=True)\n",
    "    optimizer = tf.train.GradientDescentOptimizer(learning_rate).minimize(loss, global_step=global_step)\n",
    "\n",
    "    # Predictions for the training, validation, and test data.\n",
    "    train_prediction = tf.nn.softmax(logits)\n",
    "    test_prediction = tf.nn.softmax(model(tf_test_dataset,1.0))"
   ]
  },
  {
   "cell_type": "code",
   "execution_count": 22,
   "metadata": {
    "collapsed": true
   },
   "outputs": [],
   "source": [
    "def run_session(num_epochs, name, k_prob=1.0):\n",
    "\n",
    "    with tf.Session(graph=graph) as session:\n",
    "        merged = tf.merge_all_summaries()  \n",
    "        writer = tf.train.SummaryWriter(\"tensorflowlogs\", session.graph)\n",
    "        tf.initialize_all_variables().run()\n",
    "        print(\"Initialized\")\n",
    "        for epoch in range(num_epochs):\n",
    "            offset = (epoch * batch_size) % (train_labels.shape[0] - batch_size)\n",
    "            batch_data = train_dataset[offset:(offset + batch_size), :]\n",
    "            batch_labels = train_labels[offset:(offset + batch_size), :]\n",
    "            feed_dict = {tf_train_dataset : batch_data, tf_train_labels : batch_labels, keep_prob : k_prob}\n",
    "            _, l, predictions = session.run([optimizer, loss, train_prediction], feed_dict=feed_dict)\n",
    "            if (epoch % 500 == 0):\n",
    "                print(\"Minibatch loss at epoch {}: {}\".format(epoch, l))\n",
    "                print(\"Minibatch accuracy: {:.1f}\".format(accuracy(predictions, batch_labels)))\n",
    "        print(\"Test accuracy: {:.1f}\".format(accuracy(test_prediction.eval(), test_labels_np)))\n",
    "        test_preds = pd.DataFrame(test_prediction.eval().ravel(), columns=['LR_SGD'])\n",
    "        test_preds[name] = test_prediction.eval().ravel()"
   ]
  },
  {
   "cell_type": "code",
   "execution_count": 23,
   "metadata": {
    "collapsed": false
   },
   "outputs": [
    {
     "name": "stdout",
     "output_type": "stream",
     "text": [
      "Initialized\n",
      "Minibatch loss at epoch 0: 5.658624649047852\n",
      "Minibatch accuracy: 10.5\n",
      "Minibatch loss at epoch 500: 3.1608662605285645\n",
      "Minibatch accuracy: 11.3\n",
      "Minibatch loss at epoch 1000: 2.8269011974334717\n",
      "Minibatch accuracy: 8.2\n"
     ]
    },
    {
     "name": "stderr",
     "output_type": "stream",
     "text": [
      "/Users/cindy.liu/Desktop/cindy/e81/e81-venv/lib/python3.5/site-packages/ipykernel/__main__.py:22: DeprecationWarning: elementwise == comparison failed; this will raise an error in the future.\n"
     ]
    },
    {
     "name": "stdout",
     "output_type": "stream",
     "text": [
      "Test accuracy: 0.0\n"
     ]
    }
   ],
   "source": [
    "start = time.time()\n",
    "run_session(1001, \"Deep_NN\", 0.5)\n",
    "end = time.time()\n",
    "print('Time to run: {:.3f}s'.format(end - start))"
   ]
  },
  {
   "cell_type": "code",
   "execution_count": null,
   "metadata": {
    "collapsed": true
   },
   "outputs": [],
   "source": []
  }
 ],
 "metadata": {
  "kernelspec": {
   "display_name": "Python 3",
   "language": "python",
   "name": "python3"
  },
  "language_info": {
   "codemirror_mode": {
    "name": "ipython",
    "version": 3
   },
   "file_extension": ".py",
   "mimetype": "text/x-python",
   "name": "python",
   "nbconvert_exporter": "python",
   "pygments_lexer": "ipython3",
   "version": "3.5.2"
  }
 },
 "nbformat": 4,
 "nbformat_minor": 1
}
