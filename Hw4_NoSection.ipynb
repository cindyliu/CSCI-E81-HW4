{
 "cells": [
  {
   "cell_type": "code",
   "execution_count": 12,
   "metadata": {
    "collapsed": false
   },
   "outputs": [],
   "source": [
    "from __future__ import print_function\n",
    "\n",
    "import matplotlib.pyplot as plt\n",
    "import numpy as np\n",
    "import pandas as pd\n",
    "\n",
    "import os\n",
    "import sys\n",
    "import time\n",
    "\n",
    "import sknn\n",
    "import theano\n",
    "import theano.tensor as T\n",
    "import lasagne\n",
    "from lasagne import layers\n",
    "from lasagne.updates import nesterov_momentum\n",
    "from nolearn.lasagne import NeuralNet\n",
    "from nolearn.lasagne import visualize\n",
    "\n",
    "from functools import reduce\n",
    "\n",
    "from sklearn.linear_model import LogisticRegression\n",
    "from sklearn.preprocessing import StandardScaler\n",
    "from sklearn.metrics import roc_curve, auc\n",
    "from six.moves import cPickle as pickle\n",
    "\n",
    "from sklearn.neural_network import MLPClassifier\n",
    "from collections import Counter\n",
    "\n",
    "%matplotlib inline"
   ]
  },
  {
   "cell_type": "markdown",
   "metadata": {},
   "source": [
    "Import libraries"
   ]
  },
  {
   "cell_type": "code",
   "execution_count": 13,
   "metadata": {
    "collapsed": false
   },
   "outputs": [
    {
     "name": "stdout",
     "output_type": "stream",
     "text": [
      "Time to load data: 0.157s\n",
      "Train data 0: (10000, 3072) 10000\n",
      "Train data 1: (10000, 3072) 10000\n",
      "Train data 2: (10000, 3072) 10000\n",
      "Train data 3: (10000, 3072) 10000\n",
      "Train data 4: (10000, 3072) 10000\n",
      "Test data: (10000, 3072) 10000\n",
      "Merged train data: (50000, 3072) 50000\n"
     ]
    }
   ],
   "source": [
    "files = [\n",
    "    'data_batch_1',\n",
    "    'data_batch_2',\n",
    "    'data_batch_3',\n",
    "    'data_batch_4',\n",
    "    'data_batch_5',\n",
    "    'test_batch'\n",
    "]\n",
    "data = []\n",
    "labels = []\n",
    "start = time.time()\n",
    "for file in files:\n",
    "    with open(file, 'rb') as f:\n",
    "        d = pickle.load(f, encoding='bytes')\n",
    "        if file == 'test_batch':\n",
    "            test_data = d[b'data']\n",
    "            test_labels = d[b'labels']\n",
    "        else:\n",
    "            data.append(d[b'data'])\n",
    "            labels.append(d[b'labels'])\n",
    "end = time.time()\n",
    "print('Time to load data: {:.3f}s'.format(end - start))\n",
    "for i in range(len(data)):\n",
    "    print('Train data {}:'.format(i), data[i].shape, len(labels[i]))\n",
    "print('Test data:', test_data.shape, len(test_labels))\n",
    "\n",
    "merged_data = reduce(lambda a,b: np.vstack((a,b)), data)\n",
    "merged_labels = reduce(lambda a,b: a+b, labels)\n",
    "print('Merged train data:', merged_data.shape, len(merged_labels))"
   ]
  },
  {
   "cell_type": "markdown",
   "metadata": {},
   "source": [
    "Load data and print out time- this code is taken directly from section"
   ]
  },
  {
   "cell_type": "code",
   "execution_count": 14,
   "metadata": {
    "collapsed": false
   },
   "outputs": [
    {
     "name": "stderr",
     "output_type": "stream",
     "text": [
      "C:\\Users\\Shadi\\Anaconda3\\lib\\site-packages\\sklearn\\utils\\validation.py:429: DataConversionWarning: Data with input dtype uint8 was converted to float64 by StandardScaler.\n",
      "  warnings.warn(msg, _DataConversionWarning)\n"
     ]
    }
   ],
   "source": [
    "scaler = StandardScaler()\n",
    "scaler.fit(merged_data) \n",
    "#Train our scaler based on our training data\n",
    "\n",
    "train_data = merged_data[:]\n",
    "train_labels = merged_labels[:]\n",
    "train_data = scaler.transform(train_data)\n",
    "test_data = scaler.transform(test_data)\n",
    "#Apply our scaling to our training and test data, creating a copy of our merged data called 'train_data'"
   ]
  },
  {
   "cell_type": "markdown",
   "metadata": {},
   "source": [
    "Scaling all the data so the Neural Network will work as expected"
   ]
  },
  {
   "cell_type": "code",
   "execution_count": 15,
   "metadata": {
    "collapsed": false
   },
   "outputs": [
    {
     "name": "stdout",
     "output_type": "stream",
     "text": [
      "Time to build: 171.217s\n"
     ]
    }
   ],
   "source": [
    "mlp = MLPClassifier(solver='lbgfs', alpha=1e-5, hidden_layer_sizes=(5,2), random_state=1)\n",
    "start = time.time()\n",
    "mlp.fit(train_data, train_labels)\n",
    "end = time.time()\n",
    "print('Time to build: {:.3f}s'.format(end - start))\n",
    "#Create and train a basic Multi Layer Perceptron model"
   ]
  },
  {
   "cell_type": "code",
   "execution_count": 16,
   "metadata": {
    "collapsed": false
   },
   "outputs": [
    {
     "data": {
      "text/plain": [
       "32.013999999999996"
      ]
     },
     "execution_count": 16,
     "metadata": {},
     "output_type": "execute_result"
    }
   ],
   "source": [
    "predictions = mlp.predict(train_data) #Store the predictions for this basic model\n",
    "correct = merged_labels - predictions #If the numbers are the same, they'll be 0, otherwise- any other number\n",
    "accuracy = (correct == 0).sum() / len(correct)\n",
    "accuracy * 100\n",
    "#This is the accuracy of the base model on the training data"
   ]
  },
  {
   "cell_type": "code",
   "execution_count": 17,
   "metadata": {
    "collapsed": false
   },
   "outputs": [
    {
     "data": {
      "text/plain": [
       "30.34"
      ]
     },
     "execution_count": 17,
     "metadata": {},
     "output_type": "execute_result"
    }
   ],
   "source": [
    "test_pred = mlp.predict(test_data)\n",
    "correct = test_labels - test_pred #If the numbers are the same, they'll be 0, otherwise- any other number\n",
    "test_accuracy = (correct == 0).sum() / len(correct)\n",
    "test_accuracy * 100\n",
    "#Accuracy of the base model on the test data"
   ]
  },
  {
   "cell_type": "markdown",
   "metadata": {},
   "source": [
    "Our basic MLP model seems to have an accuracy of roughly 30-32% to start- looks like there's a lot of optimization we can do on this"
   ]
  },
  {
   "cell_type": "markdown",
   "metadata": {},
   "source": [
    "http://lasagne.readthedocs.io/en/latest/user/tutorial.html\n",
    "\n",
    "The documentation for the Lasagne package was extensively utilized for creating the following Neural Network."
   ]
  },
  {
   "cell_type": "code",
   "execution_count": 18,
   "metadata": {
    "collapsed": false
   },
   "outputs": [],
   "source": [
    "x_train = merged_data[:]\n",
    "x_train = x_train.reshape(50000, 3, 32, 32)\n",
    "y_train = train_labels[:]\n",
    "#Prepare data for lasagne"
   ]
  },
  {
   "cell_type": "code",
   "execution_count": 19,
   "metadata": {
    "collapsed": true
   },
   "outputs": [],
   "source": [
    "def build_mlp(input_var=None):\n",
    "    l_in = lasagne.layers.InputLayer(shape=(None, 1, 28, 28),\n",
    "                                     input_var=input_var)\n",
    "    l_in_drop = lasagne.layers.DropoutLayer(l_in, p=0.2)\n",
    "    l_hid1 = lasagne.layers.DenseLayer(\n",
    "        l_in_drop, num_units=800,\n",
    "        nonlinearity=lasagne.nonlinearities.rectify,\n",
    "        W=lasagne.init.GlorotUniform())\n",
    "    l_hid1_drop = lasagne.layers.DropoutLayer(l_hid1, p=0.5)\n",
    "\n",
    "    l_hid2 = lasagne.layers.DenseLayer(\n",
    "        l_hid1_drop, num_units=800,\n",
    "        nonlinearity=lasagne.nonlinearities.rectify)\n",
    "\n",
    "    l_hid2_drop = lasagne.layers.DropoutLayer(l_hid2, p=0.5)\n",
    "    \n",
    "    l_out = lasagne.layers.DenseLayer(\n",
    "        l_hid2_drop, num_units=10,\n",
    "        nonlinearity=lasagne.nonlinearities.softmax)\n",
    "    return l_out"
   ]
  },
  {
   "cell_type": "code",
   "execution_count": 20,
   "metadata": {
    "collapsed": false
   },
   "outputs": [],
   "source": [
    "input_var = T.tensor4('inputs')\n",
    "target_var = T.ivector('targets')\n",
    "network = build_mlp(input_var)\n",
    "prediction = lasagne.layers.get_output(network)\n",
    "loss = lasagne.objectives.categorical_crossentropy(prediction, target_var)\n",
    "loss = loss.mean()\n",
    "params = lasagne.layers.get_all_params(network, trainable=True)\n",
    "updates = lasagne.updates.nesterov_momentum(\n",
    "        loss, params, learning_rate=0.01, momentum=0.9)\n",
    "test_prediction = lasagne.layers.get_output(network, deterministic=True)\n",
    "test_loss = lasagne.objectives.categorical_crossentropy(test_prediction,\n",
    "                                                        target_var)\n",
    "test_loss = test_loss.mean()\n",
    "test_acc = T.mean(T.eq(T.argmax(test_prediction, axis=1), target_var),\n",
    "                  dtype=theano.config.floatX)"
   ]
  },
  {
   "cell_type": "code",
   "execution_count": 24,
   "metadata": {
    "collapsed": false,
    "scrolled": true
   },
   "outputs": [
    {
     "ename": "TypeError",
     "evalue": "(\"Unknown input type: <class 'numpy.ndarray'>, expected Variable instance\", array([[[[ 59,  43,  50, ..., 158, 152, 148],\n         [ 16,   0,  18, ..., 123, 119, 122],\n         [ 25,  16,  49, ..., 118, 120, 109],\n         ..., \n         [208, 201, 198, ..., 160,  56,  53],\n         [180, 173, 186, ..., 184,  97,  83],\n         [177, 168, 179, ..., 216, 151, 123]],\n\n        [[ 62,  46,  48, ..., 132, 125, 124],\n         [ 20,   0,   8, ...,  88,  83,  87],\n         [ 24,   7,  27, ...,  84,  84,  73],\n         ..., \n         [170, 153, 161, ..., 133,  31,  34],\n         [139, 123, 144, ..., 148,  62,  53],\n         [144, 129, 142, ..., 184, 118,  92]],\n\n        [[ 63,  45,  43, ..., 108, 102, 103],\n         [ 20,   0,   0, ...,  55,  50,  57],\n         [ 21,   0,   8, ...,  50,  50,  42],\n         ..., \n         [ 96,  34,  26, ...,  70,   7,  20],\n         [ 96,  42,  30, ...,  94,  34,  34],\n         [116,  94,  87, ..., 140,  84,  72]]],\n\n\n       [[[154, 126, 105, ...,  91,  87,  79],\n         [140, 145, 125, ...,  96,  77,  71],\n         [140, 139, 115, ...,  79,  68,  67],\n         ..., \n         [175, 156, 154, ...,  42,  61,  93],\n         [165, 156, 159, ..., 103, 123, 131],\n         [163, 158, 163, ..., 143, 143, 143]],\n\n        [[177, 137, 104, ...,  95,  90,  81],\n         [160, 153, 125, ...,  99,  80,  73],\n         [155, 146, 115, ...,  82,  70,  69],\n         ..., \n         [167, 154, 160, ...,  34,  53,  83],\n         [154, 152, 161, ...,  93, 114, 121],\n         [148, 148, 156, ..., 133, 134, 133]],\n\n        [[187, 136,  95, ...,  71,  71,  70],\n         [169, 154, 118, ...,  78,  62,  61],\n         [164, 149, 112, ...,  64,  55,  55],\n         ..., \n         [166, 160, 170, ...,  36,  57,  91],\n         [128, 130, 142, ...,  96, 120, 131],\n         [120, 122, 133, ..., 139, 142, 144]]],\n\n\n       [[[255, 253, 253, ..., 253, 253, 253],\n         [255, 255, 255, ..., 255, 255, 255],\n         [255, 254, 254, ..., 254, 254, 254],\n         ..., \n         [113, 111, 105, ...,  72,  72,  72],\n         [111, 104,  99, ...,  68,  70,  78],\n         [106,  99,  95, ...,  78,  79,  80]],\n\n        [[255, 253, 253, ..., 253, 253, 253],\n         [255, 255, 255, ..., 255, 255, 255],\n         [255, 254, 254, ..., 254, 254, 254],\n         ..., \n         [120, 118, 112, ...,  81,  80,  80],\n         [118, 111, 106, ...,  75,  76,  84],\n         [113, 106, 102, ...,  85,  85,  86]],\n\n        [[255, 253, 253, ..., 253, 253, 253],\n         [255, 255, 255, ..., 255, 255, 255],\n         [255, 254, 254, ..., 254, 254, 254],\n         ..., \n         [112, 111, 106, ...,  80,  79,  79],\n         [110, 104,  98, ...,  73,  75,  82],\n         [105,  98,  94, ...,  83,  83,  84]]],\n\n\n       ..., \n       [[[ 35,  40,  42, ...,  99,  79,  89],\n         [ 57,  44,  50, ..., 156, 141, 116],\n         [ 98,  64,  69, ..., 188, 119,  61],\n         ..., \n         [ 73,  53,  54, ...,  17,  21,  33],\n         [ 61,  55,  57, ...,  24,  17,   7],\n         [ 44,  46,  49, ...,  27,  21,  12]],\n\n        [[178, 176, 176, ..., 177, 147, 148],\n         [182, 184, 183, ..., 182, 177, 149],\n         [197, 189, 192, ..., 195, 135,  79],\n         ..., \n         [ 79,  63,  68, ...,  40,  36,  48],\n         [ 68,  70,  79, ...,  48,  35,  23],\n         [ 56,  66,  77, ...,  52,  43,  31]],\n\n        [[235, 239, 241, ..., 219, 197, 189],\n         [234, 250, 240, ..., 200, 206, 175],\n         [237, 252, 245, ..., 206, 147,  90],\n         ..., \n         [ 77,  68,  80, ...,  64,  51,  49],\n         [ 75,  86, 103, ...,  72,  53,  32],\n         [ 73,  88, 105, ...,  77,  66,  50]]],\n\n\n       [[[189, 186, 185, ..., 175, 172, 169],\n         [194, 191, 190, ..., 173, 171, 167],\n         [208, 205, 204, ..., 175, 172, 169],\n         ..., \n         [207, 203, 203, ..., 135, 162, 168],\n         [198, 189, 180, ..., 178, 175, 175],\n         [198, 189, 178, ..., 195, 196, 195]],\n\n        [[211, 208, 207, ..., 195, 194, 194],\n         [210, 207, 206, ..., 192, 191, 190],\n         [219, 216, 215, ..., 191, 190, 191],\n         ..., \n         [199, 195, 196, ..., 132, 158, 163],\n         [190, 181, 172, ..., 171, 169, 169],\n         [189, 181, 170, ..., 184, 189, 190]],\n\n        [[240, 236, 235, ..., 224, 222, 220],\n         [239, 236, 235, ..., 220, 218, 216],\n         [244, 240, 239, ..., 217, 216, 215],\n         ..., \n         [181, 175, 173, ..., 127, 150, 151],\n         [170, 159, 147, ..., 160, 156, 154],\n         [173, 162, 149, ..., 169, 171, 171]]],\n\n\n       [[[229, 236, 234, ..., 217, 221, 222],\n         [222, 239, 233, ..., 223, 227, 210],\n         [213, 234, 231, ..., 220, 220, 202],\n         ..., \n         [150, 140, 132, ..., 224, 230, 241],\n         [137, 130, 125, ..., 181, 202, 212],\n         [122, 118, 120, ..., 179, 164, 163]],\n\n        [[229, 237, 236, ..., 219, 223, 223],\n         [221, 239, 234, ..., 223, 228, 211],\n         [206, 232, 233, ..., 220, 219, 203],\n         ..., \n         [143, 135, 127, ..., 222, 228, 241],\n         [132, 127, 121, ..., 180, 201, 211],\n         [119, 116, 116, ..., 177, 164, 163]],\n\n        [[239, 247, 247, ..., 233, 234, 233],\n         [229, 249, 246, ..., 236, 238, 220],\n         [211, 239, 244, ..., 232, 232, 215],\n         ..., \n         [135, 127, 120, ..., 218, 225, 238],\n         [126, 120, 115, ..., 178, 198, 207],\n         [114, 110, 111, ..., 173, 162, 161]]]], dtype=uint8))",
     "output_type": "error",
     "traceback": [
      "\u001b[0;31m---------------------------------------------------------------------------\u001b[0m",
      "\u001b[0;31mTypeError\u001b[0m                                 Traceback (most recent call last)",
      "\u001b[0;32m<ipython-input-24-8217d909196f>\u001b[0m in \u001b[0;36m<module>\u001b[0;34m()\u001b[0m\n\u001b[0;32m----> 1\u001b[0;31m \u001b[0mtrain_fn\u001b[0m \u001b[1;33m=\u001b[0m \u001b[0mtheano\u001b[0m\u001b[1;33m.\u001b[0m\u001b[0mfunction\u001b[0m\u001b[1;33m(\u001b[0m\u001b[1;33m[\u001b[0m\u001b[0mx_train\u001b[0m\u001b[1;33m,\u001b[0m \u001b[0my_train\u001b[0m\u001b[1;33m]\u001b[0m\u001b[1;33m,\u001b[0m \u001b[0mloss\u001b[0m\u001b[1;33m)\u001b[0m\u001b[1;33m\u001b[0m\u001b[0m\n\u001b[0m",
      "\u001b[0;32mC:\\Users\\Shadi\\Anaconda3\\lib\\site-packages\\theano\\compile\\function.py\u001b[0m in \u001b[0;36mfunction\u001b[0;34m(inputs, outputs, mode, updates, givens, no_default_updates, accept_inplace, name, rebuild_strict, allow_input_downcast, profile, on_unused_input)\u001b[0m\n\u001b[1;32m    303\u001b[0m         fn = orig_function(inputs, outputs,\n\u001b[1;32m    304\u001b[0m                            \u001b[0mmode\u001b[0m\u001b[1;33m=\u001b[0m\u001b[0mmode\u001b[0m\u001b[1;33m,\u001b[0m\u001b[1;33m\u001b[0m\u001b[0m\n\u001b[0;32m--> 305\u001b[0;31m                            accept_inplace=accept_inplace, name=name)\n\u001b[0m\u001b[1;32m    306\u001b[0m     \u001b[1;32melse\u001b[0m\u001b[1;33m:\u001b[0m\u001b[1;33m\u001b[0m\u001b[0m\n\u001b[1;32m    307\u001b[0m         \u001b[1;31m# note: pfunc will also call orig_function -- orig_function is\u001b[0m\u001b[1;33m\u001b[0m\u001b[1;33m\u001b[0m\u001b[0m\n",
      "\u001b[0;32mC:\\Users\\Shadi\\Anaconda3\\lib\\site-packages\\theano\\compile\\function_module.py\u001b[0m in \u001b[0;36morig_function\u001b[0;34m(inputs, outputs, mode, accept_inplace, name, profile, on_unused_input, output_keys)\u001b[0m\n\u001b[1;32m   1755\u001b[0m     \u001b[0mmode\u001b[0m \u001b[1;33m=\u001b[0m \u001b[0mtheano\u001b[0m\u001b[1;33m.\u001b[0m\u001b[0mcompile\u001b[0m\u001b[1;33m.\u001b[0m\u001b[0mmode\u001b[0m\u001b[1;33m.\u001b[0m\u001b[0mget_mode\u001b[0m\u001b[1;33m(\u001b[0m\u001b[0mmode\u001b[0m\u001b[1;33m)\u001b[0m\u001b[1;33m\u001b[0m\u001b[0m\n\u001b[1;32m   1756\u001b[0m \u001b[1;33m\u001b[0m\u001b[0m\n\u001b[0;32m-> 1757\u001b[0;31m     \u001b[0minputs\u001b[0m \u001b[1;33m=\u001b[0m \u001b[0mlist\u001b[0m\u001b[1;33m(\u001b[0m\u001b[0mmap\u001b[0m\u001b[1;33m(\u001b[0m\u001b[0mconvert_function_input\u001b[0m\u001b[1;33m,\u001b[0m \u001b[0minputs\u001b[0m\u001b[1;33m)\u001b[0m\u001b[1;33m)\u001b[0m\u001b[1;33m\u001b[0m\u001b[0m\n\u001b[0m\u001b[1;32m   1758\u001b[0m     \u001b[1;32mif\u001b[0m \u001b[0moutputs\u001b[0m \u001b[1;32mis\u001b[0m \u001b[1;32mnot\u001b[0m \u001b[1;32mNone\u001b[0m\u001b[1;33m:\u001b[0m\u001b[1;33m\u001b[0m\u001b[0m\n\u001b[1;32m   1759\u001b[0m         \u001b[1;32mif\u001b[0m \u001b[0misinstance\u001b[0m\u001b[1;33m(\u001b[0m\u001b[0moutputs\u001b[0m\u001b[1;33m,\u001b[0m \u001b[1;33m(\u001b[0m\u001b[0mlist\u001b[0m\u001b[1;33m,\u001b[0m \u001b[0mtuple\u001b[0m\u001b[1;33m)\u001b[0m\u001b[1;33m)\u001b[0m\u001b[1;33m:\u001b[0m\u001b[1;33m\u001b[0m\u001b[0m\n",
      "\u001b[0;32mC:\\Users\\Shadi\\Anaconda3\\lib\\site-packages\\theano\\compile\\function_module.py\u001b[0m in \u001b[0;36mconvert_function_input\u001b[0;34m(input)\u001b[0m\n\u001b[1;32m   1864\u001b[0m     \u001b[1;32melse\u001b[0m\u001b[1;33m:\u001b[0m\u001b[1;33m\u001b[0m\u001b[0m\n\u001b[1;32m   1865\u001b[0m         raise TypeError(\"Unknown input type: %s, expected Variable instance\" %\n\u001b[0;32m-> 1866\u001b[0;31m                         type(input), input)\n\u001b[0m\u001b[1;32m   1867\u001b[0m \u001b[1;33m\u001b[0m\u001b[0m\n\u001b[1;32m   1868\u001b[0m \u001b[1;33m\u001b[0m\u001b[0m\n",
      "\u001b[0;31mTypeError\u001b[0m: (\"Unknown input type: <class 'numpy.ndarray'>, expected Variable instance\", array([[[[ 59,  43,  50, ..., 158, 152, 148],\n         [ 16,   0,  18, ..., 123, 119, 122],\n         [ 25,  16,  49, ..., 118, 120, 109],\n         ..., \n         [208, 201, 198, ..., 160,  56,  53],\n         [180, 173, 186, ..., 184,  97,  83],\n         [177, 168, 179, ..., 216, 151, 123]],\n\n        [[ 62,  46,  48, ..., 132, 125, 124],\n         [ 20,   0,   8, ...,  88,  83,  87],\n         [ 24,   7,  27, ...,  84,  84,  73],\n         ..., \n         [170, 153, 161, ..., 133,  31,  34],\n         [139, 123, 144, ..., 148,  62,  53],\n         [144, 129, 142, ..., 184, 118,  92]],\n\n        [[ 63,  45,  43, ..., 108, 102, 103],\n         [ 20,   0,   0, ...,  55,  50,  57],\n         [ 21,   0,   8, ...,  50,  50,  42],\n         ..., \n         [ 96,  34,  26, ...,  70,   7,  20],\n         [ 96,  42,  30, ...,  94,  34,  34],\n         [116,  94,  87, ..., 140,  84,  72]]],\n\n\n       [[[154, 126, 105, ...,  91,  87,  79],\n         [140, 145, 125, ...,  96,  77,  71],\n         [140, 139, 115, ...,  79,  68,  67],\n         ..., \n         [175, 156, 154, ...,  42,  61,  93],\n         [165, 156, 159, ..., 103, 123, 131],\n         [163, 158, 163, ..., 143, 143, 143]],\n\n        [[177, 137, 104, ...,  95,  90,  81],\n         [160, 153, 125, ...,  99,  80,  73],\n         [155, 146, 115, ...,  82,  70,  69],\n         ..., \n         [167, 154, 160, ...,  34,  53,  83],\n         [154, 152, 161, ...,  93, 114, 121],\n         [148, 148, 156, ..., 133, 134, 133]],\n\n        [[187, 136,  95, ...,  71,  71,  70],\n         [169, 154, 118, ...,  78,  62,  61],\n         [164, 149, 112, ...,  64,  55,  55],\n         ..., \n         [166, 160, 170, ...,  36,  57,  91],\n         [128, 130, 142, ...,  96, 120, 131],\n         [120, 122, 133, ..., 139, 142, 144]]],\n\n\n       [[[255, 253, 253, ..., 253, 253, 253],\n         [255, 255, 255, ..., 255, 255, 255],\n         [255, 254, 254, ..., 254, 254, 254],\n         ..., \n         [113, 111, 105, ...,  72,  72,  72],\n         [111, 104,  99, ...,  68,  70,  78],\n         [106,  99,  95, ...,  78,  79,  80]],\n\n        [[255, 253, 253, ..., 253, 253, 253],\n         [255, 255, 255, ..., 255, 255, 255],\n         [255, 254, 254, ..., 254, 254, 254],\n         ..., \n         [120, 118, 112, ...,  81,  80,  80],\n         [118, 111, 106, ...,  75,  76,  84],\n         [113, 106, 102, ...,  85,  85,  86]],\n\n        [[255, 253, 253, ..., 253, 253, 253],\n         [255, 255, 255, ..., 255, 255, 255],\n         [255, 254, 254, ..., 254, 254, 254],\n         ..., \n         [112, 111, 106, ...,  80,  79,  79],\n         [110, 104,  98, ...,  73,  75,  82],\n         [105,  98,  94, ...,  83,  83,  84]]],\n\n\n       ..., \n       [[[ 35,  40,  42, ...,  99,  79,  89],\n         [ 57,  44,  50, ..., 156, 141, 116],\n         [ 98,  64,  69, ..., 188, 119,  61],\n         ..., \n         [ 73,  53,  54, ...,  17,  21,  33],\n         [ 61,  55,  57, ...,  24,  17,   7],\n         [ 44,  46,  49, ...,  27,  21,  12]],\n\n        [[178, 176, 176, ..., 177, 147, 148],\n         [182, 184, 183, ..., 182, 177, 149],\n         [197, 189, 192, ..., 195, 135,  79],\n         ..., \n         [ 79,  63,  68, ...,  40,  36,  48],\n         [ 68,  70,  79, ...,  48,  35,  23],\n         [ 56,  66,  77, ...,  52,  43,  31]],\n\n        [[235, 239, 241, ..., 219, 197, 189],\n         [234, 250, 240, ..., 200, 206, 175],\n         [237, 252, 245, ..., 206, 147,  90],\n         ..., \n         [ 77,  68,  80, ...,  64,  51,  49],\n         [ 75,  86, 103, ...,  72,  53,  32],\n         [ 73,  88, 105, ...,  77,  66,  50]]],\n\n\n       [[[189, 186, 185, ..., 175, 172, 169],\n         [194, 191, 190, ..., 173, 171, 167],\n         [208, 205, 204, ..., 175, 172, 169],\n         ..., \n         [207, 203, 203, ..., 135, 162, 168],\n         [198, 189, 180, ..., 178, 175, 175],\n         [198, 189, 178, ..., 195, 196, 195]],\n\n        [[211, 208, 207, ..., 195, 194, 194],\n         [210, 207, 206, ..., 192, 191, 190],\n         [219, 216, 215, ..., 191, 190, 191],\n         ..., \n         [199, 195, 196, ..., 132, 158, 163],\n         [190, 181, 172, ..., 171, 169, 169],\n         [189, 181, 170, ..., 184, 189, 190]],\n\n        [[240, 236, 235, ..., 224, 222, 220],\n         [239, 236, 235, ..., 220, 218, 216],\n         [244, 240, 239, ..., 217, 216, 215],\n         ..., \n         [181, 175, 173, ..., 127, 150, 151],\n         [170, 159, 147, ..., 160, 156, 154],\n         [173, 162, 149, ..., 169, 171, 171]]],\n\n\n       [[[229, 236, 234, ..., 217, 221, 222],\n         [222, 239, 233, ..., 223, 227, 210],\n         [213, 234, 231, ..., 220, 220, 202],\n         ..., \n         [150, 140, 132, ..., 224, 230, 241],\n         [137, 130, 125, ..., 181, 202, 212],\n         [122, 118, 120, ..., 179, 164, 163]],\n\n        [[229, 237, 236, ..., 219, 223, 223],\n         [221, 239, 234, ..., 223, 228, 211],\n         [206, 232, 233, ..., 220, 219, 203],\n         ..., \n         [143, 135, 127, ..., 222, 228, 241],\n         [132, 127, 121, ..., 180, 201, 211],\n         [119, 116, 116, ..., 177, 164, 163]],\n\n        [[239, 247, 247, ..., 233, 234, 233],\n         [229, 249, 246, ..., 236, 238, 220],\n         [211, 239, 244, ..., 232, 232, 215],\n         ..., \n         [135, 127, 120, ..., 218, 225, 238],\n         [126, 120, 115, ..., 178, 198, 207],\n         [114, 110, 111, ..., 173, 162, 161]]]], dtype=uint8))"
     ]
    }
   ],
   "source": [
    "train_fn = theano.function([x_train, y_train], loss)"
   ]
  }
 ],
 "metadata": {
  "anaconda-cloud": {},
  "kernelspec": {
   "display_name": "Python 3",
   "language": "python",
   "name": "python3"
  },
  "language_info": {
   "codemirror_mode": {
    "name": "ipython",
    "version": 3
   },
   "file_extension": ".py",
   "mimetype": "text/x-python",
   "name": "python",
   "nbconvert_exporter": "python",
   "pygments_lexer": "ipython3",
   "version": "3.5.2"
  }
 },
 "nbformat": 4,
 "nbformat_minor": 1
}
